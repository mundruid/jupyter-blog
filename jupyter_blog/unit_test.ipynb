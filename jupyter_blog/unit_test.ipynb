{
 "cells": [
  {
   "cell_type": "code",
   "execution_count": 6,
   "metadata": {},
   "outputs": [],
   "source": [
    "import re\n",
    "\n",
    "def validate_rtr_name(name):\n",
    "    if re.match('[A-Z]{2}-rtr-\\d{3}', name):\n",
    "        return True\n",
    "    else:\n",
    "        return False"
   ]
  },
  {
   "cell_type": "code",
   "execution_count": 9,
   "metadata": {},
   "outputs": [
    {
     "ename": "AssertionError",
     "evalue": "",
     "output_type": "error",
     "traceback": [
      "\u001b[0;31m---------------------------------------------------------------------------\u001b[0m",
      "\u001b[0;31mAssertionError\u001b[0m                            Traceback (most recent call last)",
      "\u001b[0;32m/tmp/ipykernel_29082/192676522.py\u001b[0m in \u001b[0;36m<module>\u001b[0;34m\u001b[0m\n\u001b[1;32m      5\u001b[0m \u001b[0;32massert\u001b[0m \u001b[0mvalidate_rtr_name\u001b[0m\u001b[0;34m(\u001b[0m\u001b[0;34m'SC-rtr-41'\u001b[0m\u001b[0;34m)\u001b[0m \u001b[0;34m==\u001b[0m \u001b[0;32mFalse\u001b[0m\u001b[0;34m\u001b[0m\u001b[0;34m\u001b[0m\u001b[0m\n\u001b[1;32m      6\u001b[0m \u001b[0;34m\u001b[0m\u001b[0m\n\u001b[0;32m----> 7\u001b[0;31m \u001b[0;32massert\u001b[0m \u001b[0mvalidate_rtr_name\u001b[0m\u001b[0;34m(\u001b[0m\u001b[0;34m'SCrtr-41'\u001b[0m\u001b[0;34m)\u001b[0m \u001b[0;34m==\u001b[0m \u001b[0;32mTrue\u001b[0m\u001b[0;34m\u001b[0m\u001b[0;34m\u001b[0m\u001b[0m\n\u001b[0m\u001b[1;32m      8\u001b[0m \u001b[0;34m\u001b[0m\u001b[0m\n\u001b[1;32m      9\u001b[0m \u001b[0;32massert\u001b[0m \u001b[0mvalidate_rtr_name\u001b[0m\u001b[0;34m(\u001b[0m\u001b[0;34m'SC-41'\u001b[0m\u001b[0;34m)\u001b[0m \u001b[0;34m==\u001b[0m \u001b[0;32mFalse\u001b[0m\u001b[0;34m\u001b[0m\u001b[0;34m\u001b[0m\u001b[0m\n",
      "\u001b[0;31mAssertionError\u001b[0m: "
     ]
    }
   ],
   "source": [
    "assert validate_rtr_name('IL-rtr-421') == True\n",
    "\n",
    "assert validate_rtr_name('ILQ-rtr-421') == False\n",
    "\n",
    "assert validate_rtr_name('SC-rtr-41') == False\n",
    "\n",
    "assert validate_rtr_name('SCrtr-41') == True\n",
    "\n",
    "assert validate_rtr_name('SC-41') == False"
   ]
  }
 ],
 "metadata": {
  "interpreter": {
   "hash": "88807d9cf73d9ad68f6ff517a20b1f9d6f3c2207af1a7c53ff058bb84db4baa4"
  },
  "kernelspec": {
   "display_name": "Python 3.8.2 64-bit ('jupyter-blog-DRQV1zua-py3.8': poetry)",
   "language": "python",
   "name": "python3"
  },
  "language_info": {
   "codemirror_mode": {
    "name": "ipython",
    "version": 3
   },
   "file_extension": ".py",
   "mimetype": "text/x-python",
   "name": "python",
   "nbconvert_exporter": "python",
   "pygments_lexer": "ipython3",
   "version": "3.8.2"
  },
  "orig_nbformat": 4
 },
 "nbformat": 4,
 "nbformat_minor": 2
}
